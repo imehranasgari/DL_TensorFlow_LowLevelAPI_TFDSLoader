{
 "cells": [
  {
   "cell_type": "code",
   "execution_count": 10,
   "id": "cd2bbdf6-7e83-403b-bbd6-2d6b728d3199",
   "metadata": {},
   "outputs": [],
   "source": [
    "import tensorflow as tf\n",
    "import tensorflow_datasets as tfds"
   ]
  },
  {
   "cell_type": "code",
   "execution_count": 15,
   "id": "906b0415-168b-4122-842c-259183de8774",
   "metadata": {
    "scrolled": true
   },
   "outputs": [
    {
     "data": {
      "text/plain": [
       "['abstract_reasoning',\n",
       " 'accentdb',\n",
       " 'aeslc',\n",
       " 'aflw2k3d',\n",
       " 'ag_news_subset',\n",
       " 'ai2_arc',\n",
       " 'ai2_arc_with_ir',\n",
       " 'ai2dcaption',\n",
       " 'aloha_mobile',\n",
       " 'amazon_us_reviews',\n",
       " 'anli',\n",
       " 'answer_equivalence',\n",
       " 'arc',\n",
       " 'asimov_dilemmas_auto_val',\n",
       " 'asimov_dilemmas_scifi_train',\n",
       " 'asimov_dilemmas_scifi_val',\n",
       " 'asimov_injury_val',\n",
       " 'asimov_multimodal_auto_val',\n",
       " 'asimov_multimodal_manual_val',\n",
       " 'asqa',\n",
       " 'asset',\n",
       " 'assin2',\n",
       " 'asu_table_top_converted_externally_to_rlds',\n",
       " 'austin_buds_dataset_converted_externally_to_rlds',\n",
       " 'austin_sailor_dataset_converted_externally_to_rlds',\n",
       " 'austin_sirius_dataset_converted_externally_to_rlds',\n",
       " 'bair_robot_pushing_small',\n",
       " 'bc_z',\n",
       " 'bccd',\n",
       " 'beans',\n",
       " 'bee_dataset',\n",
       " 'beir',\n",
       " 'berkeley_autolab_ur5',\n",
       " 'berkeley_cable_routing',\n",
       " 'berkeley_fanuc_manipulation',\n",
       " 'berkeley_gnm_cory_hall',\n",
       " 'berkeley_gnm_recon',\n",
       " 'berkeley_gnm_sac_son',\n",
       " 'berkeley_mvp_converted_externally_to_rlds',\n",
       " 'berkeley_rpt_converted_externally_to_rlds',\n",
       " 'big_patent',\n",
       " 'bigearthnet',\n",
       " 'billsum',\n",
       " 'binarized_mnist',\n",
       " 'binary_alpha_digits',\n",
       " 'ble_wind_field',\n",
       " 'blimp',\n",
       " 'booksum',\n",
       " 'bool_q',\n",
       " 'bot_adversarial_dialogue',\n",
       " 'bridge',\n",
       " 'bridge_data_msr',\n",
       " 'bucc',\n",
       " 'c4',\n",
       " 'c4_wsrs',\n",
       " 'caltech101',\n",
       " 'caltech_birds2010',\n",
       " 'caltech_birds2011',\n",
       " 'cardiotox',\n",
       " 'cars196',\n",
       " 'cassava',\n",
       " 'cats_vs_dogs',\n",
       " 'celeb_a',\n",
       " 'celeb_a_hq',\n",
       " 'cfq',\n",
       " 'cherry_blossoms',\n",
       " 'chexpert',\n",
       " 'cifar10',\n",
       " 'cifar100',\n",
       " 'cifar100_n',\n",
       " 'cifar10_1',\n",
       " 'cifar10_corrupted',\n",
       " 'cifar10_h',\n",
       " 'cifar10_n',\n",
       " 'citrus_leaves',\n",
       " 'cityscapes',\n",
       " 'civil_comments',\n",
       " 'clevr',\n",
       " 'clic',\n",
       " 'clinc_oos',\n",
       " 'cmaterdb',\n",
       " 'cmu_franka_exploration_dataset_converted_externally_to_rlds',\n",
       " 'cmu_play_fusion',\n",
       " 'cmu_stretch',\n",
       " 'cnn_dailymail',\n",
       " 'coco',\n",
       " 'coco_captions',\n",
       " 'coil100',\n",
       " 'colorectal_histology',\n",
       " 'colorectal_histology_large',\n",
       " 'columbia_cairlab_pusht_real',\n",
       " 'common_voice',\n",
       " 'conll2002',\n",
       " 'conll2003',\n",
       " 'conq_hose_manipulation',\n",
       " 'controlled_noisy_web_labels',\n",
       " 'coqa',\n",
       " 'corr2cause',\n",
       " 'cos_e',\n",
       " 'cosmos_qa',\n",
       " 'covid19',\n",
       " 'covid19sum',\n",
       " 'crema_d',\n",
       " 'criteo',\n",
       " 'cs_restaurants',\n",
       " 'curated_breast_imaging_ddsm',\n",
       " 'cycle_gan',\n",
       " 'd4rl_adroit_door',\n",
       " 'd4rl_adroit_hammer',\n",
       " 'd4rl_adroit_pen',\n",
       " 'd4rl_adroit_relocate',\n",
       " 'd4rl_antmaze',\n",
       " 'd4rl_mujoco_ant',\n",
       " 'd4rl_mujoco_halfcheetah',\n",
       " 'd4rl_mujoco_hopper',\n",
       " 'd4rl_mujoco_walker2d',\n",
       " 'dart',\n",
       " 'databricks_dolly',\n",
       " 'davis',\n",
       " 'deep1b',\n",
       " 'deep_weeds',\n",
       " 'definite_pronoun_resolution',\n",
       " 'dementiabank',\n",
       " 'diabetic_retinopathy_detection',\n",
       " 'diamonds',\n",
       " 'dices',\n",
       " 'div2k',\n",
       " 'dlr_edan_shared_control_converted_externally_to_rlds',\n",
       " 'dlr_sara_grid_clamp_converted_externally_to_rlds',\n",
       " 'dlr_sara_pour_converted_externally_to_rlds',\n",
       " 'dmlab',\n",
       " 'dobbe',\n",
       " 'doc_nli',\n",
       " 'dolma',\n",
       " 'dolphin_number_word',\n",
       " 'domainnet',\n",
       " 'downsampled_imagenet',\n",
       " 'drop',\n",
       " 'dsprites',\n",
       " 'dtd',\n",
       " 'duke_ultrasound',\n",
       " 'e2e_cleaned',\n",
       " 'efron_morris75',\n",
       " 'emnist',\n",
       " 'eraser_multi_rc',\n",
       " 'esnli',\n",
       " 'eth_agent_affordances',\n",
       " 'eurosat',\n",
       " 'fashion_mnist',\n",
       " 'flic',\n",
       " 'flores',\n",
       " 'fmb',\n",
       " 'food101',\n",
       " 'forest_fires',\n",
       " 'fractal20220817_data',\n",
       " 'fuss',\n",
       " 'gap',\n",
       " 'geirhos_conflict_stimuli',\n",
       " 'gem',\n",
       " 'genomics_ood',\n",
       " 'german_credit_numeric',\n",
       " 'gigaword',\n",
       " 'glove100_angular',\n",
       " 'glue',\n",
       " 'goemotions',\n",
       " 'gov_report',\n",
       " 'gpt3',\n",
       " 'gref',\n",
       " 'groove',\n",
       " 'grounded_scan',\n",
       " 'gsm8k',\n",
       " 'gtzan',\n",
       " 'gtzan_music_speech',\n",
       " 'hellaswag',\n",
       " 'higgs',\n",
       " 'hillstrom',\n",
       " 'horses_or_humans',\n",
       " 'howell',\n",
       " 'i_naturalist2017',\n",
       " 'i_naturalist2018',\n",
       " 'i_naturalist2021',\n",
       " 'iamlab_cmu_pickup_insert_converted_externally_to_rlds',\n",
       " 'imagenet2012',\n",
       " 'imagenet2012_corrupted',\n",
       " 'imagenet2012_fewshot',\n",
       " 'imagenet2012_multilabel',\n",
       " 'imagenet2012_real',\n",
       " 'imagenet2012_subset',\n",
       " 'imagenet_a',\n",
       " 'imagenet_lt',\n",
       " 'imagenet_pi',\n",
       " 'imagenet_r',\n",
       " 'imagenet_resized',\n",
       " 'imagenet_sketch',\n",
       " 'imagenet_v2',\n",
       " 'imagenette',\n",
       " 'imagewang',\n",
       " 'imdb_reviews',\n",
       " 'imperialcollege_sawyer_wrist_cam',\n",
       " 'io_ai_tech',\n",
       " 'irc_disentanglement',\n",
       " 'iris',\n",
       " 'istella',\n",
       " 'jaco_play',\n",
       " 'kaist_nonprehensile_converted_externally_to_rlds',\n",
       " 'kddcup99',\n",
       " 'kitti',\n",
       " 'kmnist',\n",
       " 'kuka',\n",
       " 'laion400m',\n",
       " 'lambada',\n",
       " 'lbpp',\n",
       " 'lfw',\n",
       " 'librispeech',\n",
       " 'librispeech_lm',\n",
       " 'libritts',\n",
       " 'ljspeech',\n",
       " 'lm1b',\n",
       " 'locomotion',\n",
       " 'lost_and_found',\n",
       " 'lsun',\n",
       " 'lvis',\n",
       " 'malaria',\n",
       " 'maniskill_dataset_converted_externally_to_rlds',\n",
       " 'math_dataset',\n",
       " 'math_qa',\n",
       " 'mctaco',\n",
       " 'media_sum',\n",
       " 'mimic_play',\n",
       " 'mlqa',\n",
       " 'mnist',\n",
       " 'mnist_corrupted',\n",
       " 'movie_lens',\n",
       " 'movie_rationales',\n",
       " 'movielens',\n",
       " 'moving_mnist',\n",
       " 'mrqa',\n",
       " 'mslr_web',\n",
       " 'mt_opt',\n",
       " 'mtnt',\n",
       " 'multi_news',\n",
       " 'multi_nli',\n",
       " 'multi_nli_mismatch',\n",
       " 'natural_instructions',\n",
       " 'natural_questions',\n",
       " 'natural_questions_open',\n",
       " 'newsroom',\n",
       " 'nsynth',\n",
       " 'nyu_depth_v2',\n",
       " 'nyu_door_opening_surprising_effectiveness',\n",
       " 'nyu_franka_play_dataset_converted_externally_to_rlds',\n",
       " 'nyu_rot_dataset_converted_externally_to_rlds',\n",
       " 'ogbg_molpcba',\n",
       " 'omniglot',\n",
       " 'open_images_challenge2019_detection',\n",
       " 'open_images_v4',\n",
       " 'openbookqa',\n",
       " 'opinion_abstracts',\n",
       " 'opinosis',\n",
       " 'opus',\n",
       " 'oxford_flowers102',\n",
       " 'oxford_iiit_pet',\n",
       " 'para_crawl',\n",
       " 'pass',\n",
       " 'patch_camelyon',\n",
       " 'paws_wiki',\n",
       " 'paws_x_wiki',\n",
       " 'penguins',\n",
       " 'pet_finder',\n",
       " 'pg19',\n",
       " 'piqa',\n",
       " 'places365_small',\n",
       " 'placesfull',\n",
       " 'plant_leaves',\n",
       " 'plant_village',\n",
       " 'plantae_k',\n",
       " 'plex_robosuite',\n",
       " 'pneumonia_mnist',\n",
       " 'protein_net',\n",
       " 'q_re_cc',\n",
       " 'qa4mre',\n",
       " 'qasc',\n",
       " 'qm9',\n",
       " 'quac',\n",
       " 'quality',\n",
       " 'quickdraw_bitmap',\n",
       " 'race',\n",
       " 'radon',\n",
       " 'real_toxicity_prompts',\n",
       " 'reddit',\n",
       " 'reddit_disentanglement',\n",
       " 'reddit_tifu',\n",
       " 'ref_coco',\n",
       " 'resisc45',\n",
       " 'rlu_atari',\n",
       " 'rlu_atari_checkpoints',\n",
       " 'rlu_atari_checkpoints_ordered',\n",
       " 'rlu_control_suite',\n",
       " 'rlu_dmlab_explore_object_rewards_few',\n",
       " 'rlu_dmlab_explore_object_rewards_many',\n",
       " 'rlu_dmlab_rooms_select_nonmatching_object',\n",
       " 'rlu_dmlab_rooms_watermaze',\n",
       " 'rlu_dmlab_seekavoid_arena01',\n",
       " 'rlu_locomotion',\n",
       " 'rlu_rwrl',\n",
       " 'robo_set',\n",
       " 'robomimic_mg',\n",
       " 'robomimic_mh',\n",
       " 'robomimic_ph',\n",
       " 'robonet',\n",
       " 'robosuite_panda_pick_place_can',\n",
       " 'roboturk',\n",
       " 'rock_paper_scissors',\n",
       " 'rock_you',\n",
       " 's3o4d',\n",
       " 'salient_span_wikipedia',\n",
       " 'samsum',\n",
       " 'savee',\n",
       " 'scan',\n",
       " 'scene_parse150',\n",
       " 'schema_guided_dialogue',\n",
       " 'sci_tail',\n",
       " 'scicite',\n",
       " 'scientific_papers',\n",
       " 'scrolls',\n",
       " 'segment_anything',\n",
       " 'sentiment140',\n",
       " 'shapes3d',\n",
       " 'sift1m',\n",
       " 'simpte',\n",
       " 'siscore',\n",
       " 'smallnorb',\n",
       " 'smart_buildings',\n",
       " 'smartwatch_gestures',\n",
       " 'snli',\n",
       " 'so2sat',\n",
       " 'speech_commands',\n",
       " 'spoc_robot',\n",
       " 'spoken_digit',\n",
       " 'squad',\n",
       " 'squad_question_generation',\n",
       " 'stanford_dogs',\n",
       " 'stanford_hydra_dataset_converted_externally_to_rlds',\n",
       " 'stanford_kuka_multimodal_dataset_converted_externally_to_rlds',\n",
       " 'stanford_mask_vit_converted_externally_to_rlds',\n",
       " 'stanford_online_products',\n",
       " 'stanford_robocook_converted_externally_to_rlds',\n",
       " 'star_cfq',\n",
       " 'starcraft_video',\n",
       " 'stl10',\n",
       " 'story_cloze',\n",
       " 'summscreen',\n",
       " 'sun397',\n",
       " 'super_glue',\n",
       " 'svhn_cropped',\n",
       " 'symmetric_solids',\n",
       " 'taco_play',\n",
       " 'tao',\n",
       " 'tatoeba',\n",
       " 'ted_hrlr_translate',\n",
       " 'ted_multi_translate',\n",
       " 'tedlium',\n",
       " 'tf_flowers',\n",
       " 'the300w_lp',\n",
       " 'tidybot',\n",
       " 'tiny_shakespeare',\n",
       " 'titanic',\n",
       " 'tokyo_u_lsmo_converted_externally_to_rlds',\n",
       " 'toto',\n",
       " 'trec',\n",
       " 'trivia_qa',\n",
       " 'tydi_qa',\n",
       " 'uc_merced',\n",
       " 'ucf101',\n",
       " 'ucsd_kitchen_dataset_converted_externally_to_rlds',\n",
       " 'ucsd_pick_and_place_dataset_converted_externally_to_rlds',\n",
       " 'uiuc_d3field',\n",
       " 'unified_qa',\n",
       " 'universal_dependencies',\n",
       " 'unnatural_instructions',\n",
       " 'usc_cloth_sim_converted_externally_to_rlds',\n",
       " 'user_libri_audio',\n",
       " 'user_libri_text',\n",
       " 'utaustin_mutex',\n",
       " 'utokyo_pr2_opening_fridge_converted_externally_to_rlds',\n",
       " 'utokyo_pr2_tabletop_manipulation_converted_externally_to_rlds',\n",
       " 'utokyo_saytap_converted_externally_to_rlds',\n",
       " 'utokyo_xarm_bimanual_converted_externally_to_rlds',\n",
       " 'utokyo_xarm_pick_and_place_converted_externally_to_rlds',\n",
       " 'vctk',\n",
       " 'vima_converted_externally_to_rlds',\n",
       " 'viola',\n",
       " 'visual_domain_decathlon',\n",
       " 'voc',\n",
       " 'voxceleb',\n",
       " 'voxforge',\n",
       " 'wake_vision',\n",
       " 'waymo_open_dataset',\n",
       " 'web_graph',\n",
       " 'web_nlg',\n",
       " 'web_questions',\n",
       " 'webvid',\n",
       " 'wider_face',\n",
       " 'wiki40b',\n",
       " 'wiki_auto',\n",
       " 'wiki_bio',\n",
       " 'wiki_dialog',\n",
       " 'wiki_table_questions',\n",
       " 'wiki_table_text',\n",
       " 'wikiann',\n",
       " 'wikihow',\n",
       " 'wikipedia',\n",
       " 'wikipedia_toxicity_subtypes',\n",
       " 'wine_quality',\n",
       " 'winogrande',\n",
       " 'wit',\n",
       " 'wit_kaggle',\n",
       " 'wmt13_translate',\n",
       " 'wmt14_translate',\n",
       " 'wmt15_translate',\n",
       " 'wmt16_translate',\n",
       " 'wmt17_translate',\n",
       " 'wmt18_translate',\n",
       " 'wmt19_translate',\n",
       " 'wmt_t2t_translate',\n",
       " 'wmt_translate',\n",
       " 'wordnet',\n",
       " 'wsc273',\n",
       " 'xnli',\n",
       " 'xquad',\n",
       " 'xsum',\n",
       " 'xtreme_pawsx',\n",
       " 'xtreme_pos',\n",
       " 'xtreme_s',\n",
       " 'xtreme_xnli',\n",
       " 'yahoo_ltrc',\n",
       " 'yelp_polarity_reviews',\n",
       " 'yes_no',\n",
       " 'youtube_vis']"
      ]
     },
     "execution_count": 15,
     "metadata": {},
     "output_type": "execute_result"
    }
   ],
   "source": [
    "tfds.list_builders()"
   ]
  },
  {
   "cell_type": "code",
   "execution_count": 27,
   "id": "e2f0136a-106e-4e85-a1c9-6f223de840e6",
   "metadata": {
    "scrolled": true
   },
   "outputs": [
    {
     "name": "stderr",
     "output_type": "stream",
     "text": [
      "WARNING:absl:Variant folder C:\\Users\\AERO\\tensorflow_datasets\\tf_flowers\\3.0.1 has no dataset_info.json\n"
     ]
    },
    {
     "name": "stdout",
     "output_type": "stream",
     "text": [
      "\u001b[1mDownloading and preparing dataset Unknown size (download: Unknown size, generated: Unknown size, total: Unknown size) to C:\\Users\\AERO\\tensorflow_datasets\\tf_flowers\\3.0.1...\u001b[0m\n"
     ]
    },
    {
     "data": {
      "application/vnd.jupyter.widget-view+json": {
       "model_id": "3e82ac5dad9d42d58e89bbea56515353",
       "version_major": 2,
       "version_minor": 0
      },
      "text/plain": [
       "Dl Completed...: 0 url [00:00, ? url/s]"
      ]
     },
     "metadata": {},
     "output_type": "display_data"
    },
    {
     "data": {
      "application/vnd.jupyter.widget-view+json": {
       "model_id": "a62fc4ed646d4cdab161ccaad3a8f6e7",
       "version_major": 2,
       "version_minor": 0
      },
      "text/plain": [
       "Dl Size...: 0 MiB [00:00, ? MiB/s]"
      ]
     },
     "metadata": {},
     "output_type": "display_data"
    },
    {
     "data": {
      "application/vnd.jupyter.widget-view+json": {
       "model_id": "e4a4945fd83346bf85010ccd67d3aef0",
       "version_major": 2,
       "version_minor": 0
      },
      "text/plain": [
       "Generating splits...:   0%|          | 0/1 [00:00<?, ? splits/s]"
      ]
     },
     "metadata": {},
     "output_type": "display_data"
    },
    {
     "data": {
      "application/vnd.jupyter.widget-view+json": {
       "model_id": "114a6982dda74b75a47ab9fa80824346",
       "version_major": 2,
       "version_minor": 0
      },
      "text/plain": [
       "Generating train examples...: 0 examples [00:00, ? examples/s]"
      ]
     },
     "metadata": {},
     "output_type": "display_data"
    },
    {
     "data": {
      "application/vnd.jupyter.widget-view+json": {
       "model_id": "2a5e911f056e4affa00e93f8bed2f992",
       "version_major": 2,
       "version_minor": 0
      },
      "text/plain": [
       "Shuffling C:\\Users\\AERO\\tensorflow_datasets\\tf_flowers\\incomplete.RNFMLE_3.0.1\\tf_flowers-train.tfrecord*...: …"
      ]
     },
     "metadata": {},
     "output_type": "display_data"
    },
    {
     "name": "stdout",
     "output_type": "stream",
     "text": [
      "\u001b[1mDataset tf_flowers downloaded and prepared to C:\\Users\\AERO\\tensorflow_datasets\\tf_flowers\\3.0.1. Subsequent calls will reuse this data.\u001b[0m\n"
     ]
    }
   ],
   "source": [
    "ds, info = tfds.load(\n",
    "    'tf_flowers',\n",
    "    #split=\"train\",\n",
    "    with_info=True,\n",
    "    #as_supervised=True,\n",
    ")"
   ]
  },
  {
   "cell_type": "code",
   "execution_count": 29,
   "id": "17674c0d-491a-4d84-8c74-056498dcee98",
   "metadata": {},
   "outputs": [
    {
     "data": {
      "text/plain": [
       "{Split('train'): <_PrefetchDataset element_spec={'image': TensorSpec(shape=(None, None, 3), dtype=tf.uint8, name=None), 'label': TensorSpec(shape=(), dtype=tf.int64, name=None)}>}"
      ]
     },
     "execution_count": 29,
     "metadata": {},
     "output_type": "execute_result"
    }
   ],
   "source": [
    "ds"
   ]
  },
  {
   "cell_type": "code",
   "execution_count": 35,
   "id": "f3212403-4072-4b18-9ae8-9740ef6f6045",
   "metadata": {},
   "outputs": [],
   "source": [
    "assert(isinstance(ds['train'], tf.data.Dataset))"
   ]
  },
  {
   "cell_type": "code",
   "execution_count": 38,
   "id": "797950fd-45c4-4c0c-b3d5-48e0aab85d1e",
   "metadata": {},
   "outputs": [
    {
     "data": {
      "text/plain": [
       "tfds.core.DatasetInfo(\n",
       "    name='tf_flowers',\n",
       "    full_name='tf_flowers/3.0.1',\n",
       "    description=\"\"\"\n",
       "    A large set of images of flowers\n",
       "    \"\"\",\n",
       "    homepage='https://www.tensorflow.org/tutorials/load_data/images',\n",
       "    data_dir='C:\\\\Users\\\\AERO\\\\tensorflow_datasets\\\\tf_flowers\\\\3.0.1',\n",
       "    file_format=tfrecord,\n",
       "    download_size=218.21 MiB,\n",
       "    dataset_size=221.83 MiB,\n",
       "    features=FeaturesDict({\n",
       "        'image': Image(shape=(None, None, 3), dtype=uint8),\n",
       "        'label': ClassLabel(shape=(), dtype=int64, num_classes=5),\n",
       "    }),\n",
       "    supervised_keys=('image', 'label'),\n",
       "    disable_shuffling=False,\n",
       "    nondeterministic_order=False,\n",
       "    splits={\n",
       "        'train': <SplitInfo num_examples=3670, num_shards=2>,\n",
       "    },\n",
       "    citation=\"\"\"@ONLINE {tfflowers,\n",
       "    author = \"The TensorFlow Team\",\n",
       "    title = \"Flowers\",\n",
       "    month = \"jan\",\n",
       "    year = \"2019\",\n",
       "    url = \"http://download.tensorflow.org/example_images/flower_photos.tgz\" }\"\"\",\n",
       ")"
      ]
     },
     "execution_count": 38,
     "metadata": {},
     "output_type": "execute_result"
    }
   ],
   "source": [
    "info"
   ]
  },
  {
   "cell_type": "code",
   "execution_count": 40,
   "id": "4e3a87a6-6b9b-4a0d-aeaa-f6245ebc0b56",
   "metadata": {},
   "outputs": [
    {
     "name": "stdout",
     "output_type": "stream",
     "text": [
      "FeaturesDict({\n",
      "    'image': Image(shape=(None, None, 3), dtype=uint8),\n",
      "    'label': ClassLabel(shape=(), dtype=int64, num_classes=5),\n",
      "})\n"
     ]
    }
   ],
   "source": [
    "print(info.features)"
   ]
  },
  {
   "cell_type": "code",
   "execution_count": 45,
   "id": "c5da4541-e5df-4f61-af5c-e71ebbbfbbf8",
   "metadata": {},
   "outputs": [
    {
     "name": "stdout",
     "output_type": "stream",
     "text": [
      "3670\n"
     ]
    }
   ],
   "source": [
    "print(info.splits['train'].num_examples)"
   ]
  },
  {
   "cell_type": "code",
   "execution_count": 58,
   "id": "081635da-fd0b-4c24-8479-a547acc3cf94",
   "metadata": {},
   "outputs": [
    {
     "name": "stdout",
     "output_type": "stream",
     "text": [
      "5\n"
     ]
    }
   ],
   "source": [
    "print(info.features['label'].num_classes)"
   ]
  },
  {
   "cell_type": "code",
   "execution_count": 65,
   "id": "9ad10ef0-e998-47c3-a9bc-b3d087139d14",
   "metadata": {
    "scrolled": true
   },
   "outputs": [
    {
     "name": "stdout",
     "output_type": "stream",
     "text": [
      "{'image': <tf.Tensor: shape=(333, 500, 3), dtype=uint8, numpy=\n",
      "array([[[ 93, 122,  30],\n",
      "        [ 90, 118,  31],\n",
      "        [ 88, 118,  28],\n",
      "        ...,\n",
      "        [247,  77,  78],\n",
      "        [253,  87,  87],\n",
      "        [255,  76,  75]],\n",
      "\n",
      "       [[ 98, 125,  30],\n",
      "        [ 95, 124,  32],\n",
      "        [ 96, 125,  32],\n",
      "        ...,\n",
      "        [247,  81,  83],\n",
      "        [250,  86,  84],\n",
      "        [252,  71,  64]],\n",
      "\n",
      "       [[ 98, 126,  26],\n",
      "        [101, 128,  31],\n",
      "        [106, 132,  33],\n",
      "        ...,\n",
      "        [254,  81,  85],\n",
      "        [254,  79,  76],\n",
      "        [252,  55,  47]],\n",
      "\n",
      "       ...,\n",
      "\n",
      "       [[ 35,  51,   6],\n",
      "        [ 21,  49,   0],\n",
      "        [ 30,  57,   6],\n",
      "        ...,\n",
      "        [224, 239,  78],\n",
      "        [192, 208,  50],\n",
      "        [ 88,  54,  53]],\n",
      "\n",
      "       [[ 65,  73,  32],\n",
      "        [ 20,  46,   0],\n",
      "        [ 22,  48,   0],\n",
      "        ...,\n",
      "        [230, 236,  74],\n",
      "        [230, 246,  62],\n",
      "        [ 88,  57,  36]],\n",
      "\n",
      "       [[ 95,  97,  60],\n",
      "        [ 15,  41,   0],\n",
      "        [ 23,  51,   3],\n",
      "        ...,\n",
      "        [210, 224,  40],\n",
      "        [210, 241,  23],\n",
      "        [ 93,  87,  11]]], dtype=uint8)>, 'label': <tf.Tensor: shape=(), dtype=int64, numpy=2>}\n"
     ]
    }
   ],
   "source": [
    "for elem in ds['train'].take(1):\n",
    "    print(elem)"
   ]
  },
  {
   "attachments": {
    "1ce0ffbd-4698-465e-9813-f82da13739b8.png": {
     "image/png": "[encoded data removed]"
    }
   },
   "cell_type": "markdown",
   "id": "6c8a5f9d-839b-4868-8fe0-694a74deed42",
   "metadata": {},
   "source": [
    "\"We want to have a tuple as the input target instead of a dictionary, so we use the following method. Below, we have also seen what tuple is returned to us if we set it to true.\"\n",
    "\n",
    "![image.png](attachment:1ce0ffbd-4698-465e-9813-f82da13739b8.png)"
   ]
  },
  {
   "cell_type": "code",
   "execution_count": 68,
   "id": "0d8873c7-b4c9-43ba-9af5-a42d66162e56",
   "metadata": {},
   "outputs": [],
   "source": [
    "ds, info = tfds.load(\n",
    "    'tf_flowers',\n",
    "    #split=\"train\",\n",
    "    with_info=True,\n",
    "    as_supervised=True,\n",
    ")"
   ]
  },
  {
   "cell_type": "code",
   "execution_count": 70,
   "id": "0b9fc2d9-ea52-46a8-91d0-6fdb16c51984",
   "metadata": {
    "scrolled": true
   },
   "outputs": [
    {
     "name": "stdout",
     "output_type": "stream",
     "text": [
      "(<tf.Tensor: shape=(333, 500, 3), dtype=uint8, numpy=\n",
      "array([[[ 93, 122,  30],\n",
      "        [ 90, 118,  31],\n",
      "        [ 88, 118,  28],\n",
      "        ...,\n",
      "        [247,  77,  78],\n",
      "        [253,  87,  87],\n",
      "        [255,  76,  75]],\n",
      "\n",
      "       [[ 98, 125,  30],\n",
      "        [ 95, 124,  32],\n",
      "        [ 96, 125,  32],\n",
      "        ...,\n",
      "        [247,  81,  83],\n",
      "        [250,  86,  84],\n",
      "        [252,  71,  64]],\n",
      "\n",
      "       [[ 98, 126,  26],\n",
      "        [101, 128,  31],\n",
      "        [106, 132,  33],\n",
      "        ...,\n",
      "        [254,  81,  85],\n",
      "        [254,  79,  76],\n",
      "        [252,  55,  47]],\n",
      "\n",
      "       ...,\n",
      "\n",
      "       [[ 35,  51,   6],\n",
      "        [ 21,  49,   0],\n",
      "        [ 30,  57,   6],\n",
      "        ...,\n",
      "        [224, 239,  78],\n",
      "        [192, 208,  50],\n",
      "        [ 88,  54,  53]],\n",
      "\n",
      "       [[ 65,  73,  32],\n",
      "        [ 20,  46,   0],\n",
      "        [ 22,  48,   0],\n",
      "        ...,\n",
      "        [230, 236,  74],\n",
      "        [230, 246,  62],\n",
      "        [ 88,  57,  36]],\n",
      "\n",
      "       [[ 95,  97,  60],\n",
      "        [ 15,  41,   0],\n",
      "        [ 23,  51,   3],\n",
      "        ...,\n",
      "        [210, 224,  40],\n",
      "        [210, 241,  23],\n",
      "        [ 93,  87,  11]]], dtype=uint8)>, <tf.Tensor: shape=(), dtype=int64, numpy=2>)\n"
     ]
    }
   ],
   "source": [
    "for elem in ds['train'].take(1):\n",
    "    print(elem)"
   ]
  },
  {
   "cell_type": "markdown",
   "id": "be7ba18e-1975-446f-9203-60e29649ceb0",
   "metadata": {},
   "source": [
    "split"
   ]
  },
  {
   "cell_type": "code",
   "execution_count": 91,
   "id": "c5efbe82-5cc5-44eb-a0c5-38d4269f4571",
   "metadata": {},
   "outputs": [],
   "source": [
    "(train_ds , val_ds, test_ds) , metadata = tfds.load(\n",
    "    'tf_flowers',\n",
    "    split=['train[:80%]','train[80%:90%]','train[90%:]'],\n",
    "    with_info=True,\n",
    "    as_supervised=True,\n",
    ")"
   ]
  },
  {
   "cell_type": "code",
   "execution_count": 94,
   "id": "dbc2fc85-3b1c-4c13-853e-0a0569ce36b9",
   "metadata": {},
   "outputs": [
    {
     "data": {
      "text/plain": [
       "tfds.core.DatasetInfo(\n",
       "    name='tf_flowers',\n",
       "    full_name='tf_flowers/3.0.1',\n",
       "    description=\"\"\"\n",
       "    A large set of images of flowers\n",
       "    \"\"\",\n",
       "    homepage='https://www.tensorflow.org/tutorials/load_data/images',\n",
       "    data_dir='C:\\\\Users\\\\AERO\\\\tensorflow_datasets\\\\tf_flowers\\\\3.0.1',\n",
       "    file_format=tfrecord,\n",
       "    download_size=218.21 MiB,\n",
       "    dataset_size=221.83 MiB,\n",
       "    features=FeaturesDict({\n",
       "        'image': Image(shape=(None, None, 3), dtype=uint8),\n",
       "        'label': ClassLabel(shape=(), dtype=int64, num_classes=5),\n",
       "    }),\n",
       "    supervised_keys=('image', 'label'),\n",
       "    disable_shuffling=False,\n",
       "    nondeterministic_order=False,\n",
       "    splits={\n",
       "        'train': <SplitInfo num_examples=3670, num_shards=2>,\n",
       "    },\n",
       "    citation=\"\"\"@ONLINE {tfflowers,\n",
       "    author = \"The TensorFlow Team\",\n",
       "    title = \"Flowers\",\n",
       "    month = \"jan\",\n",
       "    year = \"2019\",\n",
       "    url = \"http://download.tensorflow.org/example_images/flower_photos.tgz\" }\"\"\",\n",
       ")"
      ]
     },
     "execution_count": 94,
     "metadata": {},
     "output_type": "execute_result"
    }
   ],
   "source": [
    "metadata"
   ]
  },
  {
   "cell_type": "code",
   "execution_count": null,
   "id": "d28e9fde-53bc-4ca7-b5b8-ccad18e43679",
   "metadata": {},
   "outputs": [],
   "source": []
  }
 ],
 "metadata": {
  "kernelspec": {
   "display_name": "Python [conda env:tf] *",
   "language": "python",
   "name": "conda-env-tf-py"
  },
  "language_info": {
   "codemirror_mode": {
    "name": "ipython",
    "version": 3
   },
   "file_extension": ".py",
   "mimetype": "text/x-python",
   "name": "python",
   "nbconvert_exporter": "python",
   "pygments_lexer": "ipython3",
   "version": "3.10.14"
  }
 },
 "nbformat": 4,
 "nbformat_minor": 5
}
